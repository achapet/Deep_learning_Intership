{
 "cells": [
  {
   "cell_type": "code",
   "execution_count": null,
   "metadata": {
    "scrolled": true
   },
   "outputs": [],
   "source": [
    "#Import needed libraries\n",
    "import pandas as pd\n",
    "import numpy as np\n",
    "import scipy\n",
    "import scipy.stats\n",
    "import random\n",
    "import os\n",
    "import pickle\n",
    "import theano\n",
    "import torch\n",
    "import torch.nn as nn\n",
    "import torch.nn.functional as F\n",
    "import torch.cuda as cuda\n",
    "import matplotlib.pyplot as plt\n",
    "from skorch.net import NeuralNetClassifier\n",
    "import torch.utils.data as Data"
   ]
  },
  {
   "cell_type": "markdown",
   "metadata": {},
   "source": [
    "# CUDA initializing\n",
    "We want to build a device-agnostic code. </br>\n",
    "- using the documentation: https://pytorch.org/docs/master/notes/cuda.html\n",
    "- requires to run argparse : see tutorial https://docs.python.org/2/howto/argparse.html (I understand what it does now — don't think it's super useful)\n",
    "- "
   ]
  },
  {
   "cell_type": "code",
   "execution_count": null,
   "metadata": {},
   "outputs": [],
   "source": [
    "device = torch.device(\"cuda:0\" if torch.cuda.is_available() else \"cpu\") # If CUDA is available => cuda:0 prints\n",
    "print(device)"
   ]
  },
  {
   "cell_type": "markdown",
   "metadata": {},
   "source": [
    "# Import data"
   ]
  },
  {
   "cell_type": "code",
   "execution_count": null,
   "metadata": {},
   "outputs": [],
   "source": [
    "# Buid the feature matrix\n",
    "data = pd.read_csv('/home/xsong/Alma/2017---Deep-learning-yeast-UTRs/Data/Random_UTRs.csv')"
   ]
  },
  {
   "cell_type": "markdown",
   "metadata": {},
   "source": [
    "## One-hot encoding of the sequences.\n",
    "\n",
    "i.e. we're converting the sequences from being represented as a 50 character string of bases to a 4x50 matrix of 1's and 0's, with each row corresponding to a base and every column a position in the UTR."
   ]
  },
  {
   "cell_type": "code",
   "execution_count": null,
   "metadata": {},
   "outputs": [],
   "source": [
    "# From the work of Cuperus et al.\n",
    "# one hot encoding of UTRs\n",
    "# X = one hot encoding matrix\n",
    "# Y = growth rates\n",
    "\n",
    "def one_hot_encoding(df, seq_column, expression):\n",
    "\n",
    "    bases = ['A','C','G','T']\n",
    "    base_dict = dict(zip(bases,range(4))) # {'A' : 0, 'C' : 1, 'G' : 2, 'T' : 3}\n",
    "\n",
    "    n = len(df)\n",
    "    \n",
    "    # length of the UTR sequence\n",
    "    # we also add 10 empty spaces to either side\n",
    "    total_width = df[seq_column].str.len().max() + 20\n",
    "    \n",
    "    # initialize an empty numpy ndarray of the appropriate size\n",
    "    X = np.zeros((n, 1, 4, total_width))\n",
    "    \n",
    "    # an array with the sequences that we will one-hot encode\n",
    "    seqs = df[seq_column].values\n",
    "    \n",
    "    # loop through the array of sequences to create an array that keras will actually read\n",
    "    for i in range(n):\n",
    "        seq = seqs[i]\n",
    "        \n",
    "        # loop through each individual sequence, from the 5' to 3' end\n",
    "        for b in range(len(seq)):\n",
    "            # this will assign a 1 to the appropriate base and position for this UTR sequence\n",
    "            X[i, 0, base_dict[seq[b]], int(b + round((total_width - len(seq))/2.))] = 1.\n",
    "    \n",
    "        # keep track of where we are\n",
    "        if (i%100000)==0:\n",
    "            print(i),\n",
    "        \n",
    "    X = X.astype(theano.config.floatX)\n",
    "    Y = np.array(df[expression].values,\n",
    "                   dtype = theano.config.floatX)[:, np.newaxis]\n",
    "    \n",
    "    return X, Y, total_width"
   ]
  },
  {
   "cell_type": "code",
   "execution_count": null,
   "metadata": {
    "scrolled": true
   },
   "outputs": [],
   "source": [
    "X, Y, total_width = one_hot_encoding(data, 'UTR', 'growth_rate')"
   ]
  },
  {
   "cell_type": "code",
   "execution_count": null,
   "metadata": {},
   "outputs": [],
   "source": [
    "X_torch = torch.from_numpy(X).float().cuda() #change to torch and upload to CUDA\n",
    "Y_torch = torch.from_numpy(Y).float().cuda() #change to torch and upload to CUDA"
   ]
  },
  {
   "cell_type": "markdown",
   "metadata": {},
   "source": [
    "## Generate different data sets"
   ]
  },
  {
   "cell_type": "code",
   "execution_count": null,
   "metadata": {},
   "outputs": [],
   "source": [
    "# a sorted numpy array of UTR indexes, from least reads to most reads\n",
    "sorted_inds = data.sort_values('t0').index.values\n",
    "train_inds = sorted_inds[:int(0.95*len(sorted_inds))] # 95% of the data as the training set\n",
    "test_inds = sorted_inds[int(0.95*len(sorted_inds)):] # UTRs with most reads at time point 0 as the test set\n",
    "\n",
    "# set the seed before randomly shuffling the data\n",
    "seed = 0.5\n",
    "random.shuffle(train_inds, lambda :seed)"
   ]
  },
  {
   "cell_type": "markdown",
   "metadata": {},
   "source": [
    "# Generate Model\n",
    "\n",
    "I need to figure out how to make the dropout happen and Flatten. \n",
    "How do hidden units work in fully connected layers?"
   ]
  },
  {
   "cell_type": "markdown",
   "metadata": {},
   "source": [
    "## Buid the neural network"
   ]
  },
  {
   "cell_type": "code",
   "execution_count": null,
   "metadata": {},
   "outputs": [],
   "source": [
    "size=1\n",
    "batch_size=10\n",
    "class Net(nn.Module):\n",
    "    def __init__(self, x):\n",
    "        super(Net, self).__init__()\n",
    "        # input channel, output channels = number of filters, convolution kernel size\n",
    "        # kernel\n",
    "        self.conv1 = nn.Conv2d(1, size, [4,13])\n",
    "        self.conv2 = nn.Conv2d(1, size, [1,13])\n",
    "        self.conv3 = nn.Conv2d(1, size, [1,13])\n",
    "        self.fc1 = nn.Linear(34, 120)\n",
    "        self.lin_out1 = nn.Linear(120, 1)\n",
    "\n",
    "    def forward(self, x):\n",
    "        x = F.relu(self.conv1(x))\n",
    "        #print('conv1',x.size())\n",
    "        x = F.relu(self.conv2(x))\n",
    "        #print('conv2',x.size())\n",
    "        x = F.relu(self.conv3(x))\n",
    "        #print('conv3',x.size())\n",
    "        x = F.relu(self.fc1(x))\n",
    "        #print('fc1',x.size())\n",
    "        x = self.lin_out1(x)\n",
    "        #print('lol1',x.size())\n",
    "        #x = nn.Dropout(p=0.15)\n",
    "        return x\n",
    "\n",
    "    def num_flat_features(self, x):\n",
    "        size = x.size()[1:]  # all dimensions except the batch dimension\n",
    "        num_features = 1\n",
    "        for s in size:\n",
    "            num_features *= s\n",
    "        return num_features\n",
    "\n",
    "net = Net(data)\n",
    "net = net.to(device)\n",
    "print(net)\n",
    "next(net.parameters()).is_cuda"
   ]
  },
  {
   "cell_type": "code",
   "execution_count": null,
   "metadata": {},
   "outputs": [],
   "source": [
    "params = list(net.parameters())\n",
    "print(len(params))\n",
    "print(params[0].size()) "
   ]
  },
  {
   "cell_type": "markdown",
   "metadata": {},
   "source": [
    "## Training & Cross Validation\n"
   ]
  },
  {
   "cell_type": "code",
   "execution_count": null,
   "metadata": {
    "scrolled": true
   },
   "outputs": [],
   "source": [
    "# Choice of optimizer & loss function => MSE \n",
    "# Using backpropagation\n",
    "\n",
    "# Initiate the hyperparameters\n",
    "number_epochs = 20\n",
    "optimizer = torch.optim.Adam(net.parameters(), lr = 0.0001)\n",
    "track_loss = []\n",
    "loss_func = nn.MSELoss().cuda()\n",
    "k_fold = 10\n",
    "\n",
    "# Define dataset and initialize mini-batch data\n",
    "x = X_torch[train_inds]\n",
    "y = Y_torch[train_inds]\n",
    "dataset = Data.TensorDataset(x, y)\n",
    "train_loader = Data.DataLoader(dataset, batch_size=128, shuffle=True)\n",
    "\n",
    "\n",
    "#Training with crossvalidation\n",
    "for split in range(k_fold):\n",
    "    dev_index = data.index.isin(list(range(num_dev_data*split, num_dev_data*(split+1))))\n",
    "    train_data = data[~dev_index]\n",
    "    dev_data = data[dev_index]\n",
    "    \n",
    "    learning_rate = 0.005\n",
    "    optimizer = torch.optim.Adam(model.parameters(), lr=learning_rate)\n",
    "    best_acc = 0.\n",
    "    \n",
    "    for epoch in range(number_epochs): # loop over the dataset multiple time\n",
    "        print(epoch)\n",
    "        for i, (x,y) in enumerate(train_loader):\n",
    "            y.requires_grad=False\n",
    "            y = y[:,0]                 # resize the value as vector\n",
    "            optimizer.zero_grad()      # zero the parameter gradients\n",
    "\n",
    "            # forward + backward + optimize\n",
    "            output = net(x)\n",
    "            output = output[:,0,0,0]   #resize the output as vector\n",
    "            loss = loss_func(output, y)# compute the loss of the system\n",
    "            loss.backward()            # start backward function\n",
    "            optimizer.step()           # optimizing step\n",
    "        \n",
    "            #Store MSE value\n",
    "            track_loss.append(loss)\n",
    "            correct_count += torch.sum(torch.max(pred, 1)[1] == y).data[0]\n",
    "            total_count += batch_data.shape[0]\n",
    "        return correct_count, total_count\n",
    "        acc = correct_count / total_count\n",
    "        print(\"dev acc: {}\".format(acc))\n",
    "        if acc > best_acc:\n",
    "            best_acc = acc\n",
    "            print(\"save the model\")\n",
    "            torch.save(model.state_dict(), \"model-cross-validate/model-{}.th\".format(split))\n",
    "        else:\n",
    "            learning_rate *= 0.8\n",
    "            optimizer = torch.optim.Adam(model.parameters(), lr=learning_rate)\n",
    "print('Finished Training')"
   ]
  },
  {
   "cell_type": "code",
   "execution_count": null,
   "metadata": {},
   "outputs": [],
   "source": [
    "# Plotting of the loss function\n",
    "plt.plot(track_loss)\n",
    "plt.ylabel('Value of the loss function')\n",
    "plt.xlabel('Time')\n",
    "plt.show()"
   ]
  },
  {
   "cell_type": "markdown",
   "metadata": {},
   "source": [
    "## Plot predictions vs data"
   ]
  },
  {
   "cell_type": "code",
   "execution_count": null,
   "metadata": {},
   "outputs": [],
   "source": [
    "X_torch[test_inds]\n",
    "Y_pred = net(X_torch[test_inds])"
   ]
  },
  {
   "cell_type": "code",
   "execution_count": null,
   "metadata": {},
   "outputs": [],
   "source": [
    "# data\n",
    "x = Y_pred.flatten()\n",
    "y = Y[test_inds].flatten()\n",
    "\n",
    "# calculate R^2\n",
    "r2 = scipy.stats.pearsonr(x, y)[0]**2\n",
    "\n",
    "\n",
    "g = sns.jointplot(x,\n",
    "                  y,\n",
    "                  stat_func = None,\n",
    "                  kind = 'scatter',\n",
    "                  s = 5,\n",
    "                  alpha = 0.1,\n",
    "                  size = 5)\n",
    "\n",
    "g.ax_joint.set_xlabel('Predicted log$_2$ Growth Rate')\n",
    "g.ax_joint.set_ylabel('Measured log$_2$ Growth Rate')\n",
    "\n",
    "\n",
    "text = \"R$^2$ = {:0.2}\".format(r2)\n",
    "plt.annotate(text, xy=(-5.5, 0.95), xycoords='axes fraction')\n",
    "\n",
    "plt.title(\"CNN predictions vs. test set\", x = -3, y = 1.25)"
   ]
  }
 ],
 "metadata": {
  "kernelspec": {
   "display_name": "Python 3",
   "language": "python",
   "name": "python3"
  },
  "language_info": {
   "codemirror_mode": {
    "name": "ipython",
    "version": 3
   },
   "file_extension": ".py",
   "mimetype": "text/x-python",
   "name": "python",
   "nbconvert_exporter": "python",
   "pygments_lexer": "ipython3",
   "version": "3.6.4"
  }
 },
 "nbformat": 4,
 "nbformat_minor": 2
}
